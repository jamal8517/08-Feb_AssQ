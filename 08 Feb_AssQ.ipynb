{
 "cells": [
  {
   "cell_type": "markdown",
   "id": "649858f7-b3de-4987-a6c5-a3e1063e01b2",
   "metadata": {},
   "source": [
    "Q1. What is Abstraction in OOps? Explain with an example."
   ]
  },
  {
   "cell_type": "markdown",
   "id": "a05830e8-db93-47d3-b4b6-2a4ae1e9ae0f",
   "metadata": {},
   "source": [
    "Abstraction in object-oriented programming (OOP) is a fundamental concept where you focus on essential characteristics while hiding the irrelevant details. It allows you to create a simplified view of real-world objects by focusing only on the aspects that are relevant to your current perspective."
   ]
  },
  {
   "cell_type": "code",
   "execution_count": 1,
   "id": "421c351e-f0cb-4065-b115-56bfc7e55360",
   "metadata": {},
   "outputs": [],
   "source": [
    "import abc\n",
    "class pwskills:\n",
    "    \n",
    "    @abc.abstractmethod\n",
    "    def students_details(self):\n",
    "        pass\n",
    "    \n",
    "    \n",
    "    @abc.abstractmethod\n",
    "    def student_assignement(self):\n",
    "        pass\n",
    "    \n",
    "    @abc.abstractmethod\n",
    "    def student_marks(self):\n",
    "        pass"
   ]
  },
  {
   "cell_type": "code",
   "execution_count": 2,
   "id": "543bdc98-a8de-4f99-b0cf-fbb22c7135d2",
   "metadata": {},
   "outputs": [],
   "source": [
    "class student_details(pwskills):\n",
    "    \n",
    "    def students_details(self):\n",
    "        return \"this is a meth for taking student details \"\n",
    "    \n",
    "    def student_assignement(self):\n",
    "         return \" this is a meth  for assingn details for particular student\"\n",
    "    "
   ]
  },
  {
   "cell_type": "code",
   "execution_count": 3,
   "id": "75a4393c-c36d-40d9-8a9a-cb8213535b05",
   "metadata": {},
   "outputs": [],
   "source": [
    "class data_science_master(pwskills):\n",
    "    \n",
    "    def students_details(self):\n",
    "        return \"this will return a student details for data science masters\"\n",
    "    \n",
    "    def student_assignement(self):\n",
    "        return \" this will give you a student assignment details for data science masters \"\n",
    "    \n",
    "        "
   ]
  },
  {
   "cell_type": "code",
   "execution_count": 4,
   "id": "c69819bb-8077-4858-b06f-b6d0b7e5581f",
   "metadata": {},
   "outputs": [
    {
     "data": {
      "text/plain": [
       "'this will return a student details for data science masters'"
      ]
     },
     "execution_count": 4,
     "metadata": {},
     "output_type": "execute_result"
    }
   ],
   "source": [
    "dsm = data_science_master()\n",
    "dsm.students_details()"
   ]
  },
  {
   "cell_type": "code",
   "execution_count": 5,
   "id": "95db916a-6ef5-48bc-a17b-dfce2cdd05f6",
   "metadata": {},
   "outputs": [
    {
     "data": {
      "text/plain": [
       "'this is a meth for taking student details '"
      ]
     },
     "execution_count": 5,
     "metadata": {},
     "output_type": "execute_result"
    }
   ],
   "source": [
    "sd = student_details()\n",
    "sd.students_details()"
   ]
  },
  {
   "cell_type": "markdown",
   "id": "8b605e9b-c988-44a0-a5d2-bf72cdd733f2",
   "metadata": {},
   "source": [
    "Q2. Differentiate between Abstraction and Encapsulation. Explain with an example."
   ]
  },
  {
   "cell_type": "code",
   "execution_count": 6,
   "id": "253429c6-62fa-4d69-9278-6ffc6251c4fc",
   "metadata": {},
   "outputs": [],
   "source": [
    "# Abstraction Example\n",
    "class Car:\n",
    "    def __init__(self, make, model):\n",
    "        self.make = make\n",
    "        self.model = model\n",
    "    \n",
    "    def drive(self):\n",
    "        print(f\"{self.make} {self.model} is driving\")\n",
    "\n",
    "# Encapsulation Example\n",
    "class Car:\n",
    "    def __init__(self, make, model):\n",
    "        self.__make = make  # private attribute\n",
    "        self.__model = model  # private attribute\n",
    "    \n",
    "    def drive(self):\n",
    "        print(f\"{self.__make} {self.__model} is driving\")\n",
    "\n",
    "    def get_make(self):  # getter method\n",
    "        return self.__make\n",
    "    \n",
    "    def get_model(self):  # getter method\n",
    "        return self.__model\n",
    "\n",
    "    def set_make(self, make):  # setter method\n",
    "        self.__make = make\n",
    "    \n",
    "    def set_model(self, model):  # setter method\n",
    "        self.__model = model\n"
   ]
  },
  {
   "cell_type": "markdown",
   "id": "65fc1552-5585-42c9-83be-79a6868f76cf",
   "metadata": {},
   "source": [
    "Q3. What is abc module in python? Why is it used?"
   ]
  },
  {
   "cell_type": "code",
   "execution_count": 7,
   "id": "86924111-91d8-49b0-ab63-3d89e47084b8",
   "metadata": {},
   "outputs": [
    {
     "name": "stdout",
     "output_type": "stream",
     "text": [
      "Area of circle: 78.5\n",
      "Perimeter of circle: 31.400000000000002\n",
      "Area of rectangle: 24\n",
      "Perimeter of rectangle: 20\n"
     ]
    }
   ],
   "source": [
    "from abc import ABC, abstractmethod\n",
    "\n",
    "class Shape(ABC):\n",
    "    @abstractmethod\n",
    "    def area(self):\n",
    "        pass\n",
    "\n",
    "    @abstractmethod\n",
    "    def perimeter(self):\n",
    "        pass\n",
    "\n",
    "class Circle(Shape):\n",
    "    def __init__(self, radius):\n",
    "        self.radius = radius\n",
    "\n",
    "    def area(self):\n",
    "        return 3.14 * self.radius ** 2\n",
    "\n",
    "    def perimeter(self):\n",
    "        return 2 * 3.14 * self.radius\n",
    "\n",
    "class Rectangle(Shape):\n",
    "    def __init__(self, width, height):\n",
    "        self.width = width\n",
    "        self.height = height\n",
    "\n",
    "    def area(self):\n",
    "        return self.width * self.height\n",
    "\n",
    "    def perimeter(self):\n",
    "        return 2 * (self.width + self.height)\n",
    "\n",
    "# Usage\n",
    "circle = Circle(5)\n",
    "print(\"Area of circle:\", circle.area())\n",
    "print(\"Perimeter of circle:\", circle.perimeter())\n",
    "\n",
    "rectangle = Rectangle(4, 6)\n",
    "print(\"Area of rectangle:\", rectangle.area())\n",
    "print(\"Perimeter of rectangle:\", rectangle.perimeter())\n"
   ]
  },
  {
   "cell_type": "markdown",
   "id": "bbe242db-41fc-4cff-8851-4ac7f821396a",
   "metadata": {},
   "source": [
    "Q4. How can we achieve data abstraction?"
   ]
  },
  {
   "cell_type": "code",
   "execution_count": 11,
   "id": "e768e18f-8350-4e75-813d-28627791f17b",
   "metadata": {},
   "outputs": [],
   "source": [
    "class BankAccount:\n",
    "    def __init__(self, account_number, balance):\n",
    "        self._account_number = account_number  # protected attribute\n",
    "        self._balance = balance  # protected attribute\n",
    "\n",
    "    def get_account_number(self):\n",
    "        return self._account_number\n",
    "\n",
    "    def get_balance(self):\n",
    "        return self._balance\n",
    "\n",
    "    def deposit(self, amount):\n",
    "        self._balance += amount\n",
    "\n",
    "    def withdraw(self, amount):\n",
    "        if amount <= self._balance:\n",
    "            self._balance -= amount\n",
    "        else:\n",
    "            print(\"Insufficient balance\")\n"
   ]
  },
  {
   "cell_type": "markdown",
   "id": "f84ff62f-ed06-4fd3-ad03-637dea3d3e53",
   "metadata": {},
   "source": [
    "Q5. Can we create an instance of an abstract class? Explain your answer."
   ]
  },
  {
   "cell_type": "code",
   "execution_count": null,
   "id": "67c0e9db-5e46-4d27-9fd0-7d8279de5bc5",
   "metadata": {},
   "outputs": [],
   "source": []
  }
 ],
 "metadata": {
  "kernelspec": {
   "display_name": "Python 3 (ipykernel)",
   "language": "python",
   "name": "python3"
  },
  "language_info": {
   "codemirror_mode": {
    "name": "ipython",
    "version": 3
   },
   "file_extension": ".py",
   "mimetype": "text/x-python",
   "name": "python",
   "nbconvert_exporter": "python",
   "pygments_lexer": "ipython3",
   "version": "3.10.8"
  }
 },
 "nbformat": 4,
 "nbformat_minor": 5
}
